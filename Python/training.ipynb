{
 "cells": [
  {
   "cell_type": "code",
   "execution_count": 5,
   "id": "50a4e644",
   "metadata": {},
   "outputs": [
    {
     "name": "stdout",
     "output_type": "stream",
     "text": [
      "[2, 4, 'Felix', 'John', 20, 'Peter', 'Sam', 'Ivy']\n"
     ]
    }
   ],
   "source": [
    "#methods that can be used to add something to a list\n",
    "\n",
    "#.append () - will add items to a list stored in a variable for you\n",
    "#.count () - this will count the amount of times an item in list is repeated\n",
    "#.reverse () - will reverse your variable for you\n",
    "#.remove () - will remove an item in a list \n",
    "#sum(here the variable) - will sum the variable\n",
    "#.index() - will tell the index at which an item is stored in a list\n",
    "#.insert(what index, \"the item\") - will insert an item in the list for you; however you have to specificy at what index\n",
    "\n",
    "\n",
    "#example 1 of append\n",
    "\n",
    "lst = [2, 4, 'Felix', 'John', 20, 'Peter', 'Sam']\n",
    "\n",
    "#add 'Ivy' and 'Nurse' to the lst\n",
    "\n",
    "lst.append('Ivy') #if I want to add only one item no need for '[]', but if its more than 1 item, i need a []\n",
    "print(lst)\n",
    "\n",
    "\n"
   ]
  },
  {
   "cell_type": "code",
   "execution_count": 8,
   "id": "82b38d56",
   "metadata": {},
   "outputs": [
    {
     "data": {
      "text/plain": [
       "2"
      ]
     },
     "execution_count": 8,
     "metadata": {},
     "output_type": "execute_result"
    }
   ],
   "source": [
    "#count example\n",
    "lst1 = [2, 3, 4, 5, 3, 'felix', 'John', 'felix']\n",
    "\n",
    "lst1.count('felix')"
   ]
  },
  {
   "cell_type": "code",
   "execution_count": 14,
   "id": "5ff25360",
   "metadata": {},
   "outputs": [
    {
     "name": "stdout",
     "output_type": "stream",
     "text": [
      "Please tell me your Disease: Headache\n",
      "Please Enter your Age: 22\n"
     ]
    },
    {
     "data": {
      "text/plain": [
       "'Go for a LAB Test and apply Joy Ointment for the mean time till we get your LAB result'"
      ]
     },
     "execution_count": 14,
     "metadata": {},
     "output_type": "execute_result"
    }
   ],
   "source": [
    "# List of medicatiom \n",
    "pres_medication = [\"Paracetamol\",\"Joy Ointment\",\"Pandol\"] \n",
    "# List of Disease \n",
    "sub_disease = [\"Headache\",\"Malaria\",\"Cough\"] \n",
    "# Taking patient Disease \n",
    "pat_disease = input(\"Please tell me your Disease: \") \n",
    "# Taking patient Age \n",
    "pat_age = int(input(\"Please Enter your Age: \")) \n",
    " \n",
    "def my_prescription(pat_age): \n",
    "    # Loopig through the list of sub_disease \n",
    "    for disease in sub_disease: \n",
    "        # cheaking my logical statement and validating patient inputs \n",
    "        if (pat_disease == sub_disease[0]) and (pat_age <= 18): \n",
    "            return (f\"Beacause you have {pat_disease} and under age, take 600mg of {pres_medication[0]}\") \n",
    "        # checking patient type of disease and age if they are above 18 but less than 40 \n",
    "        if  (pat_disease == sub_disease[2]) and (18 < pat_age <= 40): \n",
    "            return (f\"Because you have {pat_disease} and you are above 18, take 1000mg of {pres_medication[2]}\") \n",
    "        # checking if they are above 50.... \n",
    "        return (f\"Go for a LAB Test and apply {pres_medication[1]} for the mean time till we get your LAB result\") \n",
    " \n",
    "# Calling the function with the needed parameter    \n",
    "my_prescription(pat_age)"
   ]
  },
  {
   "cell_type": "code",
   "execution_count": 34,
   "id": "867dd888",
   "metadata": {},
   "outputs": [],
   "source": [
    "name1 = \"John\"\n",
    "weight1_kg = 92 \n",
    "heigh1_m = 175\n",
    "\n",
    "name2 = \"Peter\"\n",
    "weight2_kg = 120\n",
    "height_m = 165\n"
   ]
  },
  {
   "cell_type": "code",
   "execution_count": 35,
   "id": "ffb3e837",
   "metadata": {},
   "outputs": [
    {
     "name": "stdout",
     "output_type": "stream",
     "text": [
      "What is your name: Peter\n",
      "What is your weight in Kg: 100\n",
      "What is your height in m: 170\n"
     ]
    }
   ],
   "source": [
    "name_1 = input(\"What is your name: \")\n",
    "weight_1_kg = int(input (\"What is your weight in Kg: \"))\n",
    "height_1_m = int(input (\"What is your height in m: \"))\n",
    "\n",
    "\n"
   ]
  },
  {
   "cell_type": "code",
   "execution_count": 37,
   "id": "c9641b47",
   "metadata": {},
   "outputs": [
    {
     "name": "stdout",
     "output_type": "stream",
     "text": [
      "What is your name: John\n",
      "What is your weight in Kg: 92\n",
      "What is your height in m: 175\n",
      "BMI: \n",
      "0.003004081632653061\n",
      "John you are not overweight\n"
     ]
    }
   ],
   "source": [
    "\n",
    "\n",
    "def bmi_calculator (name, weight, height):\n",
    "    bmi = weight / (height ** 2)\n",
    "    print(\"BMI: \")\n",
    "    print (bmi)\n",
    "    if bmi < 25:\n",
    "        return name + \" you are not overweight\"\n",
    "    else:\n",
    "        return name + \" you are overweight\"\n",
    "    \n",
    "name_1 = input(\"What is your name: \")\n",
    "weight_1_kg = int(input (\"What is your weight in Kg: \"))\n",
    "height_1_m = int(input (\"What is your height in m: \"))\n",
    "\n",
    "result1 = bmi_calculator (name_1, weight_1_kg, height_1_m)\n",
    "print(result1)"
   ]
  },
  {
   "cell_type": "code",
   "execution_count": 90,
   "id": "ba17be1b",
   "metadata": {},
   "outputs": [
    {
     "name": "stdout",
     "output_type": "stream",
     "text": [
      "please tell me the location for me to tell you what your name was: college\n",
      "Your name was John at c\n"
     ]
    }
   ],
   "source": [
    " def faker(location): \n",
    "    if location1[0]:\n",
    "            return \"Your name was \" +name1[0]+ \" at \" + location1[0]\n",
    "    if location1[1]:\n",
    "            return \"Your name was\" +name1[1] + \" at \" + location1[1] \n",
    "    if location1[2]:\n",
    "            return \"Your name was\"  +name1[2] + \" at \" + location1[2] \n",
    "\n",
    "location1 = [\"School\", \"College\", \"Work\"]\n",
    "name1 = [\"John\", \"Max\", \"Peter\"]\n",
    "        \n",
    "location1 = input(\"please tell me the location for me to tell you what your name was: \")\n",
    "result = faker (location1)\n",
    "print(result)\n",
    "\n",
    "    "
   ]
  },
  {
   "cell_type": "code",
   "execution_count": 65,
   "id": "3d9b53c1",
   "metadata": {},
   "outputs": [
    {
     "data": {
      "text/plain": [
       "1"
      ]
     },
     "execution_count": 65,
     "metadata": {},
     "output_type": "execute_result"
    }
   ],
   "source": []
  },
  {
   "cell_type": "code",
   "execution_count": 54,
   "id": "8b67fa2f",
   "metadata": {},
   "outputs": [
    {
     "ename": "ValueError",
     "evalue": "substring not found",
     "output_type": "error",
     "traceback": [
      "\u001b[0;31m---------------------------------------------------------------------------\u001b[0m",
      "\u001b[0;31mValueError\u001b[0m                                Traceback (most recent call last)",
      "\u001b[0;32m/var/folders/z5/dhkg6161095gnyr57s64lq7m0000gn/T/ipykernel_49872/2841180815.py\u001b[0m in \u001b[0;36m<module>\u001b[0;34m\u001b[0m\n\u001b[0;32m----> 1\u001b[0;31m \u001b[0mlocation\u001b[0m\u001b[0;34m.\u001b[0m\u001b[0mindex\u001b[0m\u001b[0;34m(\u001b[0m\u001b[0;34m\"College\"\u001b[0m\u001b[0;34m)\u001b[0m\u001b[0;34m\u001b[0m\u001b[0;34m\u001b[0m\u001b[0m\n\u001b[0m",
      "\u001b[0;31mValueError\u001b[0m: substring not found"
     ]
    }
   ],
   "source": []
  },
  {
   "cell_type": "code",
   "execution_count": 55,
   "id": "afd9c498",
   "metadata": {},
   "outputs": [
    {
     "data": {
      "text/plain": [
       "0"
      ]
     },
     "execution_count": 55,
     "metadata": {},
     "output_type": "execute_result"
    }
   ],
   "source": []
  },
  {
   "cell_type": "code",
   "execution_count": 56,
   "id": "5863b341",
   "metadata": {},
   "outputs": [
    {
     "data": {
      "text/plain": [
       "2"
      ]
     },
     "execution_count": 56,
     "metadata": {},
     "output_type": "execute_result"
    }
   ],
   "source": []
  },
  {
   "cell_type": "code",
   "execution_count": null,
   "id": "a886e4d8",
   "metadata": {},
   "outputs": [],
   "source": []
  }
 ],
 "metadata": {
  "kernelspec": {
   "display_name": "Python 3 (ipykernel)",
   "language": "python",
   "name": "python3"
  },
  "language_info": {
   "codemirror_mode": {
    "name": "ipython",
    "version": 3
   },
   "file_extension": ".py",
   "mimetype": "text/x-python",
   "name": "python",
   "nbconvert_exporter": "python",
   "pygments_lexer": "ipython3",
   "version": "3.8.8"
  }
 },
 "nbformat": 4,
 "nbformat_minor": 5
}
