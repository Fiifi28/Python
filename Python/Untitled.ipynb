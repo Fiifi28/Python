{
 "cells": [
  {
   "cell_type": "code",
   "execution_count": 1,
   "id": "6f6a2882",
   "metadata": {},
   "outputs": [
    {
     "name": "stdout",
     "output_type": "stream",
     "text": [
      "paracetamol\n",
      "joy ointment\n",
      "Panadol\n"
     ]
    }
   ],
   "source": [
    "disease = [\"headache\" , \"malaria\", \"cough\"]\n",
    "medication = [\"paracetamol\", \"joy ointment\", \"Panadol\"] \n",
    "\n",
    "for item in medication:\n",
    "    print(item)\n",
    "    \n",
    "    \n",
    "              "
   ]
  },
  {
   "cell_type": "code",
   "execution_count": 15,
   "id": "d10f6e92",
   "metadata": {},
   "outputs": [
    {
     "name": "stdout",
     "output_type": "stream",
     "text": [
      "what is your age: 18\n",
      "What is the problem: headache\n"
     ]
    },
    {
     "data": {
      "text/plain": [
       "\"Because you are 18, we reccommend a lab screening of blood prior to medication prescription; however, we'd offer you joy ointment for temporal use\""
      ]
     },
     "execution_count": 15,
     "metadata": {},
     "output_type": "execute_result"
    }
   ],
   "source": [
    "def function(disease, medication, age):\n",
    "\n",
    "    \n",
    "    if (disease_input == disease[0]) and (age_input <= 18):\n",
    "        \n",
    "        return (f\"Because you have {disease_input}, and your age is equal to or less than 18,Please take 600mg of {medication[0]}\")\n",
    "    \n",
    "    elif (disease_input == disease[0]) and ((age_input>18) or (age_input <= 50)):\n",
    "        \n",
    "        return (f\"Because you have {disease_input}, and your age is between 18 and 50, Please take 1000mg of {medication[2]}\")\n",
    "    \n",
    "    else:\n",
    "        \n",
    "        return (f\"Because you are {age_input}, we reccommend a lab screening of blood prior to medication prescription; however, we'd offer you {medication[1]} for temporal use\")\n",
    "\n",
    "    \n",
    "\n",
    "age_input = (input (\"what is your age: \"))\n",
    "    \n",
    "disease_input = input(\"What is the problem: \")\n",
    "\n",
    "function(disease_input, medication, age_input)\n",
    "\n",
    "        "
   ]
  },
  {
   "cell_type": "code",
   "execution_count": 14,
   "id": "6fe0d43f",
   "metadata": {},
   "outputs": [
    {
     "name": "stdout",
     "output_type": "stream",
     "text": [
      "no\n"
     ]
    }
   ],
   "source": [
    "number = 10\n",
    "\n",
    "if 20<number<=60:\n",
    "    print(\"yes\")\n",
    "else:\n",
    "    print(\"no\")"
   ]
  },
  {
   "cell_type": "code",
   "execution_count": null,
   "id": "4b578978",
   "metadata": {},
   "outputs": [],
   "source": []
  }
 ],
 "metadata": {
  "kernelspec": {
   "display_name": "Python 3 (ipykernel)",
   "language": "python",
   "name": "python3"
  },
  "language_info": {
   "codemirror_mode": {
    "name": "ipython",
    "version": 3
   },
   "file_extension": ".py",
   "mimetype": "text/x-python",
   "name": "python",
   "nbconvert_exporter": "python",
   "pygments_lexer": "ipython3",
   "version": "3.8.8"
  }
 },
 "nbformat": 4,
 "nbformat_minor": 5
}
