{
 "cells": [
  {
   "cell_type": "code",
   "execution_count": 3,
   "id": "367884de",
   "metadata": {},
   "outputs": [
    {
     "data": {
      "text/plain": [
       "'odopa'"
      ]
     },
     "execution_count": 3,
     "metadata": {},
     "output_type": "execute_result"
    }
   ],
   "source": [
    "#First lesson - Data structures\n",
    "\n",
    "#Strings - \"odo pa\"\n",
    "#integgers - 4,5 ,10, 1000 \n",
    "#floats - 2.5, 1.2, 2 \n",
    "#boolean data <,> == out (True/False)\n",
    "\n",
    "#1. do not add strings and integers\n",
    "\n",
    "'odo' + 'pa'"
   ]
  },
  {
   "cell_type": "code",
   "execution_count": 4,
   "id": "2a6f29ed",
   "metadata": {},
   "outputs": [
    {
     "name": "stdout",
     "output_type": "stream",
     "text": [
      "helloworld\n"
     ]
    }
   ],
   "source": [
    "print('helloworld')"
   ]
  },
  {
   "cell_type": "code",
   "execution_count": 5,
   "id": "7744fd0f",
   "metadata": {},
   "outputs": [
    {
     "data": {
      "text/plain": [
       "44"
      ]
     },
     "execution_count": 5,
     "metadata": {},
     "output_type": "execute_result"
    }
   ],
   "source": [
    "#operators \n",
    "\n",
    "#1. +\n",
    "#2. -\n",
    "#3. *\n",
    "#4. /\n",
    "#5. **\n",
    "#6. %\n",
    "#7. //\n",
    "\n",
    "\n",
    "22 + 22 \n"
   ]
  },
  {
   "cell_type": "code",
   "execution_count": 6,
   "id": "ac03b69b",
   "metadata": {},
   "outputs": [
    {
     "data": {
      "text/plain": [
       "-27"
      ]
     },
     "execution_count": 6,
     "metadata": {},
     "output_type": "execute_result"
    }
   ],
   "source": [
    "45-72"
   ]
  },
  {
   "cell_type": "code",
   "execution_count": 7,
   "id": "b9e38491",
   "metadata": {},
   "outputs": [
    {
     "data": {
      "text/plain": [
       "6"
      ]
     },
     "execution_count": 7,
     "metadata": {},
     "output_type": "execute_result"
    }
   ],
   "source": [
    "2*3"
   ]
  },
  {
   "cell_type": "code",
   "execution_count": 8,
   "id": "2283076f",
   "metadata": {},
   "outputs": [
    {
     "data": {
      "text/plain": [
       "2.0"
      ]
     },
     "execution_count": 8,
     "metadata": {},
     "output_type": "execute_result"
    }
   ],
   "source": [
    "4/2"
   ]
  },
  {
   "cell_type": "code",
   "execution_count": 9,
   "id": "a2106204",
   "metadata": {},
   "outputs": [
    {
     "data": {
      "text/plain": [
       "2.0"
      ]
     },
     "execution_count": 9,
     "metadata": {},
     "output_type": "execute_result"
    }
   ],
   "source": [
    "8/4"
   ]
  },
  {
   "cell_type": "code",
   "execution_count": 10,
   "id": "a028dc9e",
   "metadata": {},
   "outputs": [
    {
     "data": {
      "text/plain": [
       "8"
      ]
     },
     "execution_count": 10,
     "metadata": {},
     "output_type": "execute_result"
    }
   ],
   "source": [
    "2**3"
   ]
  },
  {
   "cell_type": "code",
   "execution_count": 11,
   "id": "8ead0509",
   "metadata": {},
   "outputs": [
    {
     "data": {
      "text/plain": [
       "0"
      ]
     },
     "execution_count": 11,
     "metadata": {},
     "output_type": "execute_result"
    }
   ],
   "source": [
    "8%2 "
   ]
  },
  {
   "cell_type": "code",
   "execution_count": 12,
   "id": "becf92f3",
   "metadata": {},
   "outputs": [
    {
     "data": {
      "text/plain": [
       "1"
      ]
     },
     "execution_count": 12,
     "metadata": {},
     "output_type": "execute_result"
    }
   ],
   "source": [
    "9%2"
   ]
  },
  {
   "cell_type": "code",
   "execution_count": 13,
   "id": "f88a4b83",
   "metadata": {},
   "outputs": [
    {
     "data": {
      "text/plain": [
       "4"
      ]
     },
     "execution_count": 13,
     "metadata": {},
     "output_type": "execute_result"
    }
   ],
   "source": [
    "9//2"
   ]
  },
  {
   "cell_type": "code",
   "execution_count": 14,
   "id": "4e763305",
   "metadata": {},
   "outputs": [
    {
     "name": "stdout",
     "output_type": "stream",
     "text": [
      "sugar\n"
     ]
    }
   ],
   "source": [
    "#storing variables\n",
    "\n",
    "container = \"sugar\"\n",
    "\n",
    "print(container)"
   ]
  },
  {
   "cell_type": "code",
   "execution_count": 15,
   "id": "da3bb3d4",
   "metadata": {},
   "outputs": [
    {
     "name": "stdout",
     "output_type": "stream",
     "text": [
      "['blackwoman', 'tall', 'dark', 'beautiful']\n"
     ]
    }
   ],
   "source": [
    "odopa = [\"blackwoman\", \"tall\", \"dark\", \"beautiful\"]\n",
    "\n",
    "print(odopa)"
   ]
  },
  {
   "cell_type": "code",
   "execution_count": 17,
   "id": "61b9c45c",
   "metadata": {},
   "outputs": [
    {
     "name": "stdout",
     "output_type": "stream",
     "text": [
      "25\n"
     ]
    }
   ],
   "source": [
    "odopa_age = 25\n",
    "odopa_nationality = \"Ghanaian\" \n",
    "\n",
    "print(odopa_age)"
   ]
  },
  {
   "cell_type": "code",
   "execution_count": 18,
   "id": "43ece0f0",
   "metadata": {},
   "outputs": [
    {
     "data": {
      "text/plain": [
       "False"
      ]
     },
     "execution_count": 18,
     "metadata": {},
     "output_type": "execute_result"
    }
   ],
   "source": [
    "apple_users_in_the_world = 1000000003040040050500\n",
    "\n",
    "samsung_users_in_the_world = 6835473836745437283645\n",
    "\n",
    "apple_users_in_the_world == samsung_users_in_the_world"
   ]
  },
  {
   "cell_type": "code",
   "execution_count": 19,
   "id": "2d84c129",
   "metadata": {},
   "outputs": [
    {
     "data": {
      "text/plain": [
       "False"
      ]
     },
     "execution_count": 19,
     "metadata": {},
     "output_type": "execute_result"
    }
   ],
   "source": [
    "apple_users_in_the_world > samsung_users_in_the_world"
   ]
  },
  {
   "cell_type": "code",
   "execution_count": 20,
   "id": "6703b5e7",
   "metadata": {},
   "outputs": [
    {
     "data": {
      "text/plain": [
       "True"
      ]
     },
     "execution_count": 20,
     "metadata": {},
     "output_type": "execute_result"
    }
   ],
   "source": [
    "apple_users_in_the_world < samsung_users_in_the_world"
   ]
  },
  {
   "cell_type": "code",
   "execution_count": 21,
   "id": "b77fbf1b",
   "metadata": {},
   "outputs": [
    {
     "data": {
      "text/plain": [
       "True"
      ]
     },
     "execution_count": 21,
     "metadata": {},
     "output_type": "execute_result"
    }
   ],
   "source": [
    "'odopa' == \"odopa\""
   ]
  },
  {
   "cell_type": "code",
   "execution_count": 22,
   "id": "b6eaf689",
   "metadata": {},
   "outputs": [
    {
     "data": {
      "text/plain": [
       "True"
      ]
     },
     "execution_count": 22,
     "metadata": {},
     "output_type": "execute_result"
    }
   ],
   "source": [
    "6 > 0"
   ]
  },
  {
   "cell_type": "code",
   "execution_count": 23,
   "id": "4e1c01b4",
   "metadata": {},
   "outputs": [
    {
     "data": {
      "text/plain": [
       "True"
      ]
     },
     "execution_count": 23,
     "metadata": {},
     "output_type": "execute_result"
    }
   ],
   "source": [
    "True or True"
   ]
  },
  {
   "cell_type": "code",
   "execution_count": 24,
   "id": "16f776c1",
   "metadata": {},
   "outputs": [
    {
     "data": {
      "text/plain": [
       "True"
      ]
     },
     "execution_count": 24,
     "metadata": {},
     "output_type": "execute_result"
    }
   ],
   "source": [
    "True or False"
   ]
  },
  {
   "cell_type": "code",
   "execution_count": 25,
   "id": "129e06db",
   "metadata": {},
   "outputs": [
    {
     "data": {
      "text/plain": [
       "False"
      ]
     },
     "execution_count": 25,
     "metadata": {},
     "output_type": "execute_result"
    }
   ],
   "source": [
    "True and False"
   ]
  },
  {
   "cell_type": "code",
   "execution_count": 26,
   "id": "f516d104",
   "metadata": {},
   "outputs": [
    {
     "data": {
      "text/plain": [
       "False"
      ]
     },
     "execution_count": 26,
     "metadata": {},
     "output_type": "execute_result"
    }
   ],
   "source": [
    "True and not True"
   ]
  },
  {
   "cell_type": "code",
   "execution_count": 27,
   "id": "6a5cede1",
   "metadata": {},
   "outputs": [
    {
     "data": {
      "text/plain": [
       "True"
      ]
     },
     "execution_count": 27,
     "metadata": {},
     "output_type": "execute_result"
    }
   ],
   "source": [
    "True and True or False and True or True"
   ]
  },
  {
   "cell_type": "code",
   "execution_count": 29,
   "id": "909a23a9",
   "metadata": {},
   "outputs": [
    {
     "data": {
      "text/plain": [
       "True"
      ]
     },
     "execution_count": 29,
     "metadata": {},
     "output_type": "execute_result"
    }
   ],
   "source": [
    "6+4 >= 1"
   ]
  },
  {
   "cell_type": "code",
   "execution_count": 39,
   "id": "16abf025",
   "metadata": {},
   "outputs": [
    {
     "name": "stdout",
     "output_type": "stream",
     "text": [
      "Whar is your data: 5G\n",
      "Who are you: Felix\n"
     ]
    },
    {
     "ename": "TypeError",
     "evalue": "item() missing 1 required positional argument: 'people'",
     "output_type": "error",
     "traceback": [
      "\u001b[0;31m---------------------------------------------------------------------------\u001b[0m",
      "\u001b[0;31mTypeError\u001b[0m                                 Traceback (most recent call last)",
      "\u001b[0;32m/var/folders/z5/dhkg6161095gnyr57s64lq7m0000gn/T/ipykernel_49876/144369773.py\u001b[0m in \u001b[0;36m<module>\u001b[0;34m\u001b[0m\n\u001b[1;32m      9\u001b[0m \u001b[0mpeople\u001b[0m \u001b[0;34m=\u001b[0m \u001b[0minput\u001b[0m\u001b[0;34m(\u001b[0m\u001b[0;34m\"Who are you: \"\u001b[0m\u001b[0;34m)\u001b[0m\u001b[0;34m\u001b[0m\u001b[0;34m\u001b[0m\u001b[0m\n\u001b[1;32m     10\u001b[0m \u001b[0;34m\u001b[0m\u001b[0m\n\u001b[0;32m---> 11\u001b[0;31m \u001b[0mitem\u001b[0m\u001b[0;34m(\u001b[0m\u001b[0mdata\u001b[0m\u001b[0;34m)\u001b[0m\u001b[0;34m\u001b[0m\u001b[0;34m\u001b[0m\u001b[0m\n\u001b[0m",
      "\u001b[0;31mTypeError\u001b[0m: item() missing 1 required positional argument: 'people'"
     ]
    }
   ],
   "source": [
    "data = [\"5G\", \"6G\"]\n",
    "People = ['felix', 'John']\n",
    "\n",
    "def item (data, people):\n",
    "    if (data == \"5G\") and (people == \"Felix\"):\n",
    "        return f\"you are felix\"\n",
    "\n",
    "data = input(\"Whar is your data: \" )\n",
    "people = input(\"Who are you: \")\n",
    "\n",
    "item(data)"
   ]
  },
  {
   "cell_type": "code",
   "execution_count": 36,
   "id": "1790201d",
   "metadata": {},
   "outputs": [
    {
     "name": "stdout",
     "output_type": "stream",
     "text": [
      "15\n"
     ]
    }
   ],
   "source": [
    "def outerFun(a, b):\n",
    "    def innerFun(c, d):\n",
    "        return c + d\n",
    "    return innerFun(a, b)\n",
    "    return a\n",
    "\n",
    "result = outerFun(5, 10)\n",
    "print(result)"
   ]
  },
  {
   "cell_type": "code",
   "execution_count": 43,
   "id": "52371045",
   "metadata": {},
   "outputs": [
    {
     "name": "stdout",
     "output_type": "stream",
     "text": [
      "what year were you born: 1995\n",
      "You are 26 years old\n"
     ]
    }
   ],
   "source": [
    "age1 = input(\"what year were you born: \")\n",
    "\n",
    "age = 2021 - int(age1)\n",
    "\n",
    "print(\"You are\",  age, \"years old\")\n"
   ]
  },
  {
   "cell_type": "code",
   "execution_count": null,
   "id": "27ea1d96",
   "metadata": {},
   "outputs": [],
   "source": []
  }
 ],
 "metadata": {
  "kernelspec": {
   "display_name": "Python 3 (ipykernel)",
   "language": "python",
   "name": "python3"
  },
  "language_info": {
   "codemirror_mode": {
    "name": "ipython",
    "version": 3
   },
   "file_extension": ".py",
   "mimetype": "text/x-python",
   "name": "python",
   "nbconvert_exporter": "python",
   "pygments_lexer": "ipython3",
   "version": "3.8.8"
  }
 },
 "nbformat": 4,
 "nbformat_minor": 5
}
