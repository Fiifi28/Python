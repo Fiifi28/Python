{
 "cells": [
  {
   "cell_type": "code",
   "execution_count": 1,
   "id": "c0ee4df5",
   "metadata": {},
   "outputs": [
    {
     "name": "stdout",
     "output_type": "stream",
     "text": [
      "6\n"
     ]
    }
   ],
   "source": [
    "def function1 (x):\n",
    "    return 2 * x\n",
    "a = function1 (3)\n",
    "\n",
    "print(a)\n"
   ]
  },
  {
   "cell_type": "code",
   "execution_count": 2,
   "id": "c28436f4",
   "metadata": {},
   "outputs": [
    {
     "ename": "SyntaxError",
     "evalue": "invalid syntax (4159646509.py, line 1)",
     "output_type": "error",
     "traceback": [
      "\u001b[0;36m  File \u001b[0;32m\"/var/folders/z5/dhkg6161095gnyr57s64lq7m0000gn/T/ipykernel_30121/4159646509.py\"\u001b[0;36m, line \u001b[0;32m1\u001b[0m\n\u001b[0;31m    def function2 (\"Professor\"):\u001b[0m\n\u001b[0m                   ^\u001b[0m\n\u001b[0;31mSyntaxError\u001b[0m\u001b[0;31m:\u001b[0m invalid syntax\n"
     ]
    }
   ],
   "source": [
    "def function2 (\"Professor\"):\n",
    "    return \"Allotey\" + Professor\n",
    "b = function2 (\"is a genius\")\n",
    "print(b)\n"
   ]
  },
  {
   "cell_type": "code",
   "execution_count": 3,
   "id": "c55d40a5",
   "metadata": {},
   "outputs": [
    {
     "name": "stdout",
     "output_type": "stream",
     "text": [
      "Alloteyis a genius\n"
     ]
    }
   ],
   "source": [
    "def function2 (Professor):\n",
    "    return \"Allotey\" + Professor\n",
    "b = function2 (\"is a genius\")\n",
    "print(b)"
   ]
  },
  {
   "cell_type": "code",
   "execution_count": 4,
   "id": "ef765944",
   "metadata": {},
   "outputs": [
    {
     "name": "stdout",
     "output_type": "stream",
     "text": [
      "Allotey is a genius\n"
     ]
    }
   ],
   "source": [
    "def function2 (Professor):\n",
    "    return \"Allotey \" + Professor\n",
    "b = function2 (\"is a genius\")\n",
    "print(b)"
   ]
  },
  {
   "cell_type": "code",
   "execution_count": 8,
   "id": "d9e541c1",
   "metadata": {},
   "outputs": [
    {
     "name": "stdout",
     "output_type": "stream",
     "text": [
      "True\n",
      "False\n"
     ]
    }
   ],
   "source": [
    "numbers_x = [10, 20, 30, 40, 10]\n",
    "numbers_y = [75, 65, 35, 75, 30]\n",
    "\n",
    "len(numbers_x)\n",
    "len(numbers_y)\n",
    "\n",
    "if numbers_x[0]==numbers_x[4]:\n",
    "    print(True)\n",
    "else: \n",
    "    print(False)\n",
    "\n",
    "if numbers_y[0]==numbers_y[4]:\n",
    "    print(True)\n",
    "else:\n",
    "    print(False)"
   ]
  },
  {
   "cell_type": "code",
   "execution_count": 16,
   "id": "028fef28",
   "metadata": {},
   "outputs": [
    {
     "name": "stdout",
     "output_type": "stream",
     "text": [
      "[10, 20, 55]\n"
     ]
    }
   ],
   "source": [
    "list1 = [10, 20, 33, 46, 55]\n",
    "\n",
    "list2 = []\n",
    "\n",
    "for x in list1:\n",
    "    if x%5==0:\n",
    "        list2.append(x)\n",
    "\n",
    "print(list2)\n",
    "        "
   ]
  },
  {
   "cell_type": "code",
   "execution_count": 29,
   "id": "de71efbd",
   "metadata": {},
   "outputs": [
    {
     "name": "stdout",
     "output_type": "stream",
     "text": [
      "tive\n",
      "native\n"
     ]
    }
   ],
   "source": [
    "a = \"pynative\"\n",
    "\n",
    "S1 = a[int(len(a)/2):]\n",
    "\n",
    "print(S1)\n",
    "\n",
    "b = \"pynative\"\n",
    "\n",
    "S2 = b[int(len(b)/4):]\n",
    "\n",
    "print (S2)\n"
   ]
  },
  {
   "cell_type": "code",
   "execution_count": 42,
   "id": "67f99a75",
   "metadata": {},
   "outputs": [
    {
     "name": "stdout",
     "output_type": "stream",
     "text": [
      "p\n",
      "a\n",
      "v\n"
     ]
    }
   ],
   "source": [
    "str = \"pynative\"\n",
    "for i in str [0::3]: #this is how you skip some values [0::2] -- This means that you start from the beginning(0), to the end but you skip by (2).\n",
    "    \n",
    "    print(i)\n",
    "        "
   ]
  },
  {
   "cell_type": "code",
   "execution_count": null,
   "id": "3ab9cb4d",
   "metadata": {},
   "outputs": [],
   "source": [
    "\n",
    "\n",
    "\n",
    "def function(x):\n",
    "    return 3.14*(x)\n",
    "a,b,c = function(22), function (122), function (9)\n",
    "\n",
    "print(a, b, c)\n"
   ]
  },
  {
   "cell_type": "code",
   "execution_count": 56,
   "id": "06fa3903",
   "metadata": {},
   "outputs": [
    {
     "data": {
      "text/plain": [
       "4"
      ]
     },
     "execution_count": 56,
     "metadata": {},
     "output_type": "execute_result"
    }
   ],
   "source": [
    "2**2\n"
   ]
  },
  {
   "cell_type": "code",
   "execution_count": 57,
   "id": "9039ce05",
   "metadata": {},
   "outputs": [
    {
     "data": {
      "text/plain": [
       "2"
      ]
     },
     "execution_count": 57,
     "metadata": {},
     "output_type": "execute_result"
    }
   ],
   "source": [
    "4//2"
   ]
  },
  {
   "cell_type": "code",
   "execution_count": 58,
   "id": "f9a12ccb",
   "metadata": {},
   "outputs": [
    {
     "data": {
      "text/plain": [
       "0"
      ]
     },
     "execution_count": 58,
     "metadata": {},
     "output_type": "execute_result"
    }
   ],
   "source": [
    "4%2"
   ]
  },
  {
   "cell_type": "code",
   "execution_count": 59,
   "id": "6ca4c72a",
   "metadata": {},
   "outputs": [
    {
     "data": {
      "text/plain": [
       "2.0"
      ]
     },
     "execution_count": 59,
     "metadata": {},
     "output_type": "execute_result"
    }
   ],
   "source": [
    "4/2"
   ]
  },
  {
   "cell_type": "code",
   "execution_count": 70,
   "id": "10de413a",
   "metadata": {},
   "outputs": [
    {
     "name": "stdout",
     "output_type": "stream",
     "text": [
      "Emma appeared two times\n",
      "The name of Kofi B appears thrice\n"
     ]
    }
   ],
   "source": [
    "str_x = \"Emma is good developer. Emma is a writer\"\n",
    "\n",
    "while str_x.count(\"Emma\") == 2:    #the string method count() is very important here \n",
    "        print(\"Emma appeared two times\")\n",
    "        break  #one needs to remember to break the code as well or else it will keep running\n",
    "else:\n",
    "    print (\"Emma doesn't appear twice\")\n",
    "    \n",
    "#another example\n",
    "\n",
    "CSquad = \"Kofi B is in Tanzania. Kofi B has enjoyed the Tanzanian girls. Kofi B is now back to Ghana\"\n",
    "\n",
    "while CSquad.count(\"Kofi B\") == 3:\n",
    "    print(\"The name of Kofi B appears thrice\")\n",
    "    break\n",
    "else:\n",
    "    print (\" Fuck off! Kofi B does't appear thrice\")\n",
    "\n",
    "    \n",
    "\n",
    "\n",
    "    "
   ]
  },
  {
   "cell_type": "code",
   "execution_count": 76,
   "id": "04d4a94c",
   "metadata": {},
   "outputs": [
    {
     "name": "stdout",
     "output_type": "stream",
     "text": [
      "121 is a palindrome number\n"
     ]
    }
   ],
   "source": [
    "x = 121\n",
    "x1 = 121\n",
    "if x == x1:\n",
    "    print(\"121 is a palindrome number\")\n",
    "else:\n",
    "    print(\"121 is not a palindrome number\")"
   ]
  },
  {
   "cell_type": "code",
   "execution_count": 81,
   "id": "194bd043",
   "metadata": {},
   "outputs": [
    {
     "data": {
      "text/plain": [
       "5"
      ]
     },
     "execution_count": 81,
     "metadata": {},
     "output_type": "execute_result"
    }
   ],
   "source": [
    "28//5"
   ]
  },
  {
   "cell_type": "code",
   "execution_count": 92,
   "id": "4edd1f3d",
   "metadata": {},
   "outputs": [
    {
     "name": "stdout",
     "output_type": "stream",
     "text": [
      "Hello, Welcome to Dr. Effah's website\n",
      "Before we go ahead with you, if you are a new member please register first\n",
      "If you are a returning custumer, please just log in\n",
      "Name: John \n",
      "Surname: Leggend\n",
      "Email: Jleggend@holywood.co.usa\n",
      "Create a Username: Jleg1\n",
      "Create a Password: JoJO1\n",
      "Please repeat Password: jojo1\n",
      "password and password repeat do not match\n",
      "Please try one more time\n",
      "Create a Password: John1\n",
      "Please repeat Password: John2\n",
      "Please Try signing up again later\n"
     ]
    }
   ],
   "source": [
    "print (\"Hello, Welcome to Dr. Effah's website\")\n",
    "print (\"Before we go ahead with you, if you are a new member please register first\")\n",
    "print (\"If you are a returning custumer, please just log in\")\n",
    "\n",
    "#new custumer registration details\n",
    "custumer_name = input (\"Name: \")\n",
    "custumer_surname = input (\"Surname: \")\n",
    "custumer_email = input (\"Email: \")\n",
    "custumer_username = input(\"Create a Username: \")\n",
    "custumer_password = input(\"Create a Password: \")\n",
    "custumer_password_repeat = input(\"Please repeat Password: \")\n",
    "\n",
    "while custumer_password == custumer_password_repeat:\n",
    "        print(\"Account created\")\n",
    "else:\n",
    "    print(\"password and password repeat do not match\")\n",
    "    print(\"Please try one more time\")\n",
    "    custumer_password = input(\"Create a Password: \")\n",
    "    custumer_password_repeat = input(\"Please repeat Password: \")\n",
    "\n",
    "if custumer_password == custumer_password_repeat:\n",
    "    print(\"Account Successfully Created\")\n",
    "else:\n",
    "    print(\"Please Try signing up again later\")\n",
    "\n"
   ]
  },
  {
   "cell_type": "code",
   "execution_count": null,
   "id": "97e5d548",
   "metadata": {},
   "outputs": [],
   "source": []
  }
 ],
 "metadata": {
  "kernelspec": {
   "display_name": "Python 3 (ipykernel)",
   "language": "python",
   "name": "python3"
  },
  "language_info": {
   "codemirror_mode": {
    "name": "ipython",
    "version": 3
   },
   "file_extension": ".py",
   "mimetype": "text/x-python",
   "name": "python",
   "nbconvert_exporter": "python",
   "pygments_lexer": "ipython3",
   "version": "3.8.8"
  }
 },
 "nbformat": 4,
 "nbformat_minor": 5
}
